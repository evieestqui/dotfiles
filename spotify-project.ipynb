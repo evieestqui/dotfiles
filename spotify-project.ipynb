{
  "cells": [
    {
      "metadata": {
        "id": "y3nWl1-eVIx9"
      },
      "cell_type": "markdown",
      "source": [
        "# Setup 💻 (do not forget to run these cells before starting 👇)"
      ]
    },
    {
      "metadata": {
        "id": "XWFx6LGMVIyA"
      },
      "cell_type": "markdown",
      "source": [
        "## 1. Importing Libraries"
      ]
    },
    {
      "metadata": {
        "ExecuteTime": {
          "end_time": "2020-09-27T18:10:59.565886Z",
          "start_time": "2020-09-27T18:10:58.349400Z"
        },
        "trusted": false,
        "id": "_4ysaJbfVIyB"
      },
      "cell_type": "code",
      "source": [
        "import pandas as pd\n",
        "import numpy as np\n",
        "import matplotlib.pyplot as plt\n",
        "import seaborn as sns"
      ],
      "execution_count": 13,
      "outputs": []
    },
    {
      "metadata": {
        "ExecuteTime": {
          "end_time": "2020-09-27T18:10:59.695147Z",
          "start_time": "2020-09-27T18:10:59.567829Z"
        },
        "id": "R6IV28v5VIyB"
      },
      "cell_type": "markdown",
      "source": [
        "## 2. Loading Spotify dataset"
      ]
    },
    {
      "metadata": {
        "ExecuteTime": {
          "end_time": "2020-09-27T18:11:00.172221Z",
          "start_time": "2020-09-27T18:10:59.699946Z"
        },
        "trusted": false,
        "id": "PCyldaO2VIyC"
      },
      "cell_type": "code",
      "source": [
        "df = pd.read_csv('https://storage.googleapis.com/introduction-to-data-science/spotify-dataset.csv')"
      ],
      "execution_count": 14,
      "outputs": []
    },
    {
      "metadata": {
        "id": "EkNxivgGVIyC"
      },
      "cell_type": "markdown",
      "source": [
        "----------"
      ]
    },
    {
      "metadata": {
        "id": "O-PyWa7dVIyC"
      },
      "cell_type": "markdown",
      "source": [
        "# Your Assignement starts here 🔥"
      ]
    },
    {
      "metadata": {
        "id": "OS6cjj0ZVIyC"
      },
      "cell_type": "markdown",
      "source": [
        "## 1. Can you display the first 10 row of the dataset?"
      ]
    },
    {
      "metadata": {
        "trusted": false,
        "id": "z0zJxSnVVIyC",
        "outputId": "7ef23b57-40ff-4597-eb1a-1b09caf5705d",
        "colab": {
          "base_uri": "https://localhost:8080/",
          "height": 765
        }
      },
      "cell_type": "code",
      "source": [
        "df.head(10)"
      ],
      "execution_count": 15,
      "outputs": [
        {
          "output_type": "execute_result",
          "data": {
            "text/plain": [
              "   acousticness                                     artists  danceability  \\\n",
              "0         0.995                         ['Carl Woitschach']         0.708   \n",
              "1         0.994    ['Robert Schumann', 'Vladimir Horowitz']         0.379   \n",
              "2         0.604                     ['Seweryn Goszczyński']         0.749   \n",
              "3         0.995                        ['Francisco Canaro']         0.781   \n",
              "4         0.990    ['Frédéric Chopin', 'Vladimir Horowitz']         0.210   \n",
              "5         0.995  ['Felix Mendelssohn', 'Vladimir Horowitz']         0.424   \n",
              "6         0.956        ['Franz Liszt', 'Vladimir Horowitz']         0.444   \n",
              "7         0.988                         ['Carl Woitschach']         0.555   \n",
              "8         0.995              ['Francisco Canaro', 'Charlo']         0.683   \n",
              "9         0.846                     ['Seweryn Goszczyński']         0.674   \n",
              "\n",
              "   duration_ms  energy  explicit                      id  instrumentalness  \\\n",
              "0       158648  0.1950         0  6KbQ3uYMLKb5jDxLF7wYDD             0.563   \n",
              "1       282133  0.0135         0  6KuQTIu1KoTTkLXKrwlLPV             0.901   \n",
              "2       104300  0.2200         0  6L63VW0PibdM1HDSBoqnoM             0.000   \n",
              "3       180760  0.1300         0  6M94FkXd15sOAOQYRnWPN8             0.887   \n",
              "4       687733  0.2040         0  6N6tiFZ9vLTSOIxkj8qKrd             0.908   \n",
              "5       352600  0.1200         0  6NxAf7M8DNHOBTmEd3JSO5             0.911   \n",
              "6       136627  0.1970         0  6O0puPuyrxPjDTHDUgsWI7             0.435   \n",
              "7       153967  0.4210         0  6OJjveoYwJdIt76y0Pxpxw             0.836   \n",
              "8       162493  0.2070         0  6OaJ8Bh7lsBeYoBmwmo2nh             0.206   \n",
              "9       111600  0.2050         0  6PrZexNb16cabXR8Q418Xc             0.000   \n",
              "\n",
              "   key  liveness  loudness  mode  \\\n",
              "0   10    0.1510   -12.428     1   \n",
              "1    8    0.0763   -28.454     1   \n",
              "2    5    0.1190   -19.924     0   \n",
              "3    1    0.1110   -14.734     0   \n",
              "4   11    0.0980   -16.829     1   \n",
              "5    6    0.0915   -19.242     0   \n",
              "6   11    0.0744   -17.226     1   \n",
              "7    1    0.1050    -9.878     1   \n",
              "8    9    0.3370    -9.801     0   \n",
              "9    9    0.1700   -20.119     1   \n",
              "\n",
              "                                             name  popularity release_date  \\\n",
              "0                     Singende Bataillone 1. Teil           0         1928   \n",
              "1        Fantasiestücke, Op. 111: Più tosto lento           0         1928   \n",
              "2                  Chapter 1.18 - Zamek kaniowski           0         1928   \n",
              "3   Bebamos Juntos - Instrumental (Remasterizado)           0   1928-09-25   \n",
              "4     Polonaise-Fantaisie in A-Flat Major, Op. 61           1         1928   \n",
              "5                     Scherzo a capriccio: Presto           0         1928   \n",
              "6  Valse oubliée No. 1 in F-Sharp Major, S. 215/1           0         1928   \n",
              "7                             Per aspera ad astra           0         1928   \n",
              "8                Moneda Corriente - Remasterizado           0   1928-10-03   \n",
              "9                   Chapter 1.3 - Zamek kaniowski           0         1928   \n",
              "\n",
              "   speechiness    tempo  valence  year  \n",
              "0       0.0506  118.469   0.7790  1928  \n",
              "1       0.0462   83.972   0.0767  1928  \n",
              "2       0.9290  107.177   0.8800  1928  \n",
              "3       0.0926  108.003   0.7200  1928  \n",
              "4       0.0424   62.149   0.0693  1928  \n",
              "5       0.0593   63.521   0.2660  1928  \n",
              "6       0.0400   80.495   0.3050  1928  \n",
              "7       0.0474  123.310   0.8570  1928  \n",
              "8       0.1270  119.833   0.4930  1928  \n",
              "9       0.9540   81.249   0.7590  1928  "
            ],
            "text/html": [
              "\n",
              "  <div id=\"df-19a14a1a-d888-425e-895d-b67e55b81874\" class=\"colab-df-container\">\n",
              "    <div>\n",
              "<style scoped>\n",
              "    .dataframe tbody tr th:only-of-type {\n",
              "        vertical-align: middle;\n",
              "    }\n",
              "\n",
              "    .dataframe tbody tr th {\n",
              "        vertical-align: top;\n",
              "    }\n",
              "\n",
              "    .dataframe thead th {\n",
              "        text-align: right;\n",
              "    }\n",
              "</style>\n",
              "<table border=\"1\" class=\"dataframe\">\n",
              "  <thead>\n",
              "    <tr style=\"text-align: right;\">\n",
              "      <th></th>\n",
              "      <th>acousticness</th>\n",
              "      <th>artists</th>\n",
              "      <th>danceability</th>\n",
              "      <th>duration_ms</th>\n",
              "      <th>energy</th>\n",
              "      <th>explicit</th>\n",
              "      <th>id</th>\n",
              "      <th>instrumentalness</th>\n",
              "      <th>key</th>\n",
              "      <th>liveness</th>\n",
              "      <th>loudness</th>\n",
              "      <th>mode</th>\n",
              "      <th>name</th>\n",
              "      <th>popularity</th>\n",
              "      <th>release_date</th>\n",
              "      <th>speechiness</th>\n",
              "      <th>tempo</th>\n",
              "      <th>valence</th>\n",
              "      <th>year</th>\n",
              "    </tr>\n",
              "  </thead>\n",
              "  <tbody>\n",
              "    <tr>\n",
              "      <th>0</th>\n",
              "      <td>0.995</td>\n",
              "      <td>['Carl Woitschach']</td>\n",
              "      <td>0.708</td>\n",
              "      <td>158648</td>\n",
              "      <td>0.1950</td>\n",
              "      <td>0</td>\n",
              "      <td>6KbQ3uYMLKb5jDxLF7wYDD</td>\n",
              "      <td>0.563</td>\n",
              "      <td>10</td>\n",
              "      <td>0.1510</td>\n",
              "      <td>-12.428</td>\n",
              "      <td>1</td>\n",
              "      <td>Singende Bataillone 1. Teil</td>\n",
              "      <td>0</td>\n",
              "      <td>1928</td>\n",
              "      <td>0.0506</td>\n",
              "      <td>118.469</td>\n",
              "      <td>0.7790</td>\n",
              "      <td>1928</td>\n",
              "    </tr>\n",
              "    <tr>\n",
              "      <th>1</th>\n",
              "      <td>0.994</td>\n",
              "      <td>['Robert Schumann', 'Vladimir Horowitz']</td>\n",
              "      <td>0.379</td>\n",
              "      <td>282133</td>\n",
              "      <td>0.0135</td>\n",
              "      <td>0</td>\n",
              "      <td>6KuQTIu1KoTTkLXKrwlLPV</td>\n",
              "      <td>0.901</td>\n",
              "      <td>8</td>\n",
              "      <td>0.0763</td>\n",
              "      <td>-28.454</td>\n",
              "      <td>1</td>\n",
              "      <td>Fantasiestücke, Op. 111: Più tosto lento</td>\n",
              "      <td>0</td>\n",
              "      <td>1928</td>\n",
              "      <td>0.0462</td>\n",
              "      <td>83.972</td>\n",
              "      <td>0.0767</td>\n",
              "      <td>1928</td>\n",
              "    </tr>\n",
              "    <tr>\n",
              "      <th>2</th>\n",
              "      <td>0.604</td>\n",
              "      <td>['Seweryn Goszczyński']</td>\n",
              "      <td>0.749</td>\n",
              "      <td>104300</td>\n",
              "      <td>0.2200</td>\n",
              "      <td>0</td>\n",
              "      <td>6L63VW0PibdM1HDSBoqnoM</td>\n",
              "      <td>0.000</td>\n",
              "      <td>5</td>\n",
              "      <td>0.1190</td>\n",
              "      <td>-19.924</td>\n",
              "      <td>0</td>\n",
              "      <td>Chapter 1.18 - Zamek kaniowski</td>\n",
              "      <td>0</td>\n",
              "      <td>1928</td>\n",
              "      <td>0.9290</td>\n",
              "      <td>107.177</td>\n",
              "      <td>0.8800</td>\n",
              "      <td>1928</td>\n",
              "    </tr>\n",
              "    <tr>\n",
              "      <th>3</th>\n",
              "      <td>0.995</td>\n",
              "      <td>['Francisco Canaro']</td>\n",
              "      <td>0.781</td>\n",
              "      <td>180760</td>\n",
              "      <td>0.1300</td>\n",
              "      <td>0</td>\n",
              "      <td>6M94FkXd15sOAOQYRnWPN8</td>\n",
              "      <td>0.887</td>\n",
              "      <td>1</td>\n",
              "      <td>0.1110</td>\n",
              "      <td>-14.734</td>\n",
              "      <td>0</td>\n",
              "      <td>Bebamos Juntos - Instrumental (Remasterizado)</td>\n",
              "      <td>0</td>\n",
              "      <td>1928-09-25</td>\n",
              "      <td>0.0926</td>\n",
              "      <td>108.003</td>\n",
              "      <td>0.7200</td>\n",
              "      <td>1928</td>\n",
              "    </tr>\n",
              "    <tr>\n",
              "      <th>4</th>\n",
              "      <td>0.990</td>\n",
              "      <td>['Frédéric Chopin', 'Vladimir Horowitz']</td>\n",
              "      <td>0.210</td>\n",
              "      <td>687733</td>\n",
              "      <td>0.2040</td>\n",
              "      <td>0</td>\n",
              "      <td>6N6tiFZ9vLTSOIxkj8qKrd</td>\n",
              "      <td>0.908</td>\n",
              "      <td>11</td>\n",
              "      <td>0.0980</td>\n",
              "      <td>-16.829</td>\n",
              "      <td>1</td>\n",
              "      <td>Polonaise-Fantaisie in A-Flat Major, Op. 61</td>\n",
              "      <td>1</td>\n",
              "      <td>1928</td>\n",
              "      <td>0.0424</td>\n",
              "      <td>62.149</td>\n",
              "      <td>0.0693</td>\n",
              "      <td>1928</td>\n",
              "    </tr>\n",
              "    <tr>\n",
              "      <th>5</th>\n",
              "      <td>0.995</td>\n",
              "      <td>['Felix Mendelssohn', 'Vladimir Horowitz']</td>\n",
              "      <td>0.424</td>\n",
              "      <td>352600</td>\n",
              "      <td>0.1200</td>\n",
              "      <td>0</td>\n",
              "      <td>6NxAf7M8DNHOBTmEd3JSO5</td>\n",
              "      <td>0.911</td>\n",
              "      <td>6</td>\n",
              "      <td>0.0915</td>\n",
              "      <td>-19.242</td>\n",
              "      <td>0</td>\n",
              "      <td>Scherzo a capriccio: Presto</td>\n",
              "      <td>0</td>\n",
              "      <td>1928</td>\n",
              "      <td>0.0593</td>\n",
              "      <td>63.521</td>\n",
              "      <td>0.2660</td>\n",
              "      <td>1928</td>\n",
              "    </tr>\n",
              "    <tr>\n",
              "      <th>6</th>\n",
              "      <td>0.956</td>\n",
              "      <td>['Franz Liszt', 'Vladimir Horowitz']</td>\n",
              "      <td>0.444</td>\n",
              "      <td>136627</td>\n",
              "      <td>0.1970</td>\n",
              "      <td>0</td>\n",
              "      <td>6O0puPuyrxPjDTHDUgsWI7</td>\n",
              "      <td>0.435</td>\n",
              "      <td>11</td>\n",
              "      <td>0.0744</td>\n",
              "      <td>-17.226</td>\n",
              "      <td>1</td>\n",
              "      <td>Valse oubliée No. 1 in F-Sharp Major, S. 215/1</td>\n",
              "      <td>0</td>\n",
              "      <td>1928</td>\n",
              "      <td>0.0400</td>\n",
              "      <td>80.495</td>\n",
              "      <td>0.3050</td>\n",
              "      <td>1928</td>\n",
              "    </tr>\n",
              "    <tr>\n",
              "      <th>7</th>\n",
              "      <td>0.988</td>\n",
              "      <td>['Carl Woitschach']</td>\n",
              "      <td>0.555</td>\n",
              "      <td>153967</td>\n",
              "      <td>0.4210</td>\n",
              "      <td>0</td>\n",
              "      <td>6OJjveoYwJdIt76y0Pxpxw</td>\n",
              "      <td>0.836</td>\n",
              "      <td>1</td>\n",
              "      <td>0.1050</td>\n",
              "      <td>-9.878</td>\n",
              "      <td>1</td>\n",
              "      <td>Per aspera ad astra</td>\n",
              "      <td>0</td>\n",
              "      <td>1928</td>\n",
              "      <td>0.0474</td>\n",
              "      <td>123.310</td>\n",
              "      <td>0.8570</td>\n",
              "      <td>1928</td>\n",
              "    </tr>\n",
              "    <tr>\n",
              "      <th>8</th>\n",
              "      <td>0.995</td>\n",
              "      <td>['Francisco Canaro', 'Charlo']</td>\n",
              "      <td>0.683</td>\n",
              "      <td>162493</td>\n",
              "      <td>0.2070</td>\n",
              "      <td>0</td>\n",
              "      <td>6OaJ8Bh7lsBeYoBmwmo2nh</td>\n",
              "      <td>0.206</td>\n",
              "      <td>9</td>\n",
              "      <td>0.3370</td>\n",
              "      <td>-9.801</td>\n",
              "      <td>0</td>\n",
              "      <td>Moneda Corriente - Remasterizado</td>\n",
              "      <td>0</td>\n",
              "      <td>1928-10-03</td>\n",
              "      <td>0.1270</td>\n",
              "      <td>119.833</td>\n",
              "      <td>0.4930</td>\n",
              "      <td>1928</td>\n",
              "    </tr>\n",
              "    <tr>\n",
              "      <th>9</th>\n",
              "      <td>0.846</td>\n",
              "      <td>['Seweryn Goszczyński']</td>\n",
              "      <td>0.674</td>\n",
              "      <td>111600</td>\n",
              "      <td>0.2050</td>\n",
              "      <td>0</td>\n",
              "      <td>6PrZexNb16cabXR8Q418Xc</td>\n",
              "      <td>0.000</td>\n",
              "      <td>9</td>\n",
              "      <td>0.1700</td>\n",
              "      <td>-20.119</td>\n",
              "      <td>1</td>\n",
              "      <td>Chapter 1.3 - Zamek kaniowski</td>\n",
              "      <td>0</td>\n",
              "      <td>1928</td>\n",
              "      <td>0.9540</td>\n",
              "      <td>81.249</td>\n",
              "      <td>0.7590</td>\n",
              "      <td>1928</td>\n",
              "    </tr>\n",
              "  </tbody>\n",
              "</table>\n",
              "</div>\n",
              "    <div class=\"colab-df-buttons\">\n",
              "\n",
              "  <div class=\"colab-df-container\">\n",
              "    <button class=\"colab-df-convert\" onclick=\"convertToInteractive('df-19a14a1a-d888-425e-895d-b67e55b81874')\"\n",
              "            title=\"Convert this dataframe to an interactive table.\"\n",
              "            style=\"display:none;\">\n",
              "\n",
              "  <svg xmlns=\"http://www.w3.org/2000/svg\" height=\"24px\" viewBox=\"0 -960 960 960\">\n",
              "    <path d=\"M120-120v-720h720v720H120Zm60-500h600v-160H180v160Zm220 220h160v-160H400v160Zm0 220h160v-160H400v160ZM180-400h160v-160H180v160Zm440 0h160v-160H620v160ZM180-180h160v-160H180v160Zm440 0h160v-160H620v160Z\"/>\n",
              "  </svg>\n",
              "    </button>\n",
              "\n",
              "  <style>\n",
              "    .colab-df-container {\n",
              "      display:flex;\n",
              "      gap: 12px;\n",
              "    }\n",
              "\n",
              "    .colab-df-convert {\n",
              "      background-color: #E8F0FE;\n",
              "      border: none;\n",
              "      border-radius: 50%;\n",
              "      cursor: pointer;\n",
              "      display: none;\n",
              "      fill: #1967D2;\n",
              "      height: 32px;\n",
              "      padding: 0 0 0 0;\n",
              "      width: 32px;\n",
              "    }\n",
              "\n",
              "    .colab-df-convert:hover {\n",
              "      background-color: #E2EBFA;\n",
              "      box-shadow: 0px 1px 2px rgba(60, 64, 67, 0.3), 0px 1px 3px 1px rgba(60, 64, 67, 0.15);\n",
              "      fill: #174EA6;\n",
              "    }\n",
              "\n",
              "    .colab-df-buttons div {\n",
              "      margin-bottom: 4px;\n",
              "    }\n",
              "\n",
              "    [theme=dark] .colab-df-convert {\n",
              "      background-color: #3B4455;\n",
              "      fill: #D2E3FC;\n",
              "    }\n",
              "\n",
              "    [theme=dark] .colab-df-convert:hover {\n",
              "      background-color: #434B5C;\n",
              "      box-shadow: 0px 1px 3px 1px rgba(0, 0, 0, 0.15);\n",
              "      filter: drop-shadow(0px 1px 2px rgba(0, 0, 0, 0.3));\n",
              "      fill: #FFFFFF;\n",
              "    }\n",
              "  </style>\n",
              "\n",
              "    <script>\n",
              "      const buttonEl =\n",
              "        document.querySelector('#df-19a14a1a-d888-425e-895d-b67e55b81874 button.colab-df-convert');\n",
              "      buttonEl.style.display =\n",
              "        google.colab.kernel.accessAllowed ? 'block' : 'none';\n",
              "\n",
              "      async function convertToInteractive(key) {\n",
              "        const element = document.querySelector('#df-19a14a1a-d888-425e-895d-b67e55b81874');\n",
              "        const dataTable =\n",
              "          await google.colab.kernel.invokeFunction('convertToInteractive',\n",
              "                                                    [key], {});\n",
              "        if (!dataTable) return;\n",
              "\n",
              "        const docLinkHtml = 'Like what you see? Visit the ' +\n",
              "          '<a target=\"_blank\" href=https://colab.research.google.com/notebooks/data_table.ipynb>data table notebook</a>'\n",
              "          + ' to learn more about interactive tables.';\n",
              "        element.innerHTML = '';\n",
              "        dataTable['output_type'] = 'display_data';\n",
              "        await google.colab.output.renderOutput(dataTable, element);\n",
              "        const docLink = document.createElement('div');\n",
              "        docLink.innerHTML = docLinkHtml;\n",
              "        element.appendChild(docLink);\n",
              "      }\n",
              "    </script>\n",
              "  </div>\n",
              "\n",
              "\n",
              "<div id=\"df-058a6e03-3eb1-4194-ae3e-cef7ff947165\">\n",
              "  <button class=\"colab-df-quickchart\" onclick=\"quickchart('df-058a6e03-3eb1-4194-ae3e-cef7ff947165')\"\n",
              "            title=\"Suggest charts\"\n",
              "            style=\"display:none;\">\n",
              "\n",
              "<svg xmlns=\"http://www.w3.org/2000/svg\" height=\"24px\"viewBox=\"0 0 24 24\"\n",
              "     width=\"24px\">\n",
              "    <g>\n",
              "        <path d=\"M19 3H5c-1.1 0-2 .9-2 2v14c0 1.1.9 2 2 2h14c1.1 0 2-.9 2-2V5c0-1.1-.9-2-2-2zM9 17H7v-7h2v7zm4 0h-2V7h2v10zm4 0h-2v-4h2v4z\"/>\n",
              "    </g>\n",
              "</svg>\n",
              "  </button>\n",
              "\n",
              "<style>\n",
              "  .colab-df-quickchart {\n",
              "      --bg-color: #E8F0FE;\n",
              "      --fill-color: #1967D2;\n",
              "      --hover-bg-color: #E2EBFA;\n",
              "      --hover-fill-color: #174EA6;\n",
              "      --disabled-fill-color: #AAA;\n",
              "      --disabled-bg-color: #DDD;\n",
              "  }\n",
              "\n",
              "  [theme=dark] .colab-df-quickchart {\n",
              "      --bg-color: #3B4455;\n",
              "      --fill-color: #D2E3FC;\n",
              "      --hover-bg-color: #434B5C;\n",
              "      --hover-fill-color: #FFFFFF;\n",
              "      --disabled-bg-color: #3B4455;\n",
              "      --disabled-fill-color: #666;\n",
              "  }\n",
              "\n",
              "  .colab-df-quickchart {\n",
              "    background-color: var(--bg-color);\n",
              "    border: none;\n",
              "    border-radius: 50%;\n",
              "    cursor: pointer;\n",
              "    display: none;\n",
              "    fill: var(--fill-color);\n",
              "    height: 32px;\n",
              "    padding: 0;\n",
              "    width: 32px;\n",
              "  }\n",
              "\n",
              "  .colab-df-quickchart:hover {\n",
              "    background-color: var(--hover-bg-color);\n",
              "    box-shadow: 0 1px 2px rgba(60, 64, 67, 0.3), 0 1px 3px 1px rgba(60, 64, 67, 0.15);\n",
              "    fill: var(--button-hover-fill-color);\n",
              "  }\n",
              "\n",
              "  .colab-df-quickchart-complete:disabled,\n",
              "  .colab-df-quickchart-complete:disabled:hover {\n",
              "    background-color: var(--disabled-bg-color);\n",
              "    fill: var(--disabled-fill-color);\n",
              "    box-shadow: none;\n",
              "  }\n",
              "\n",
              "  .colab-df-spinner {\n",
              "    border: 2px solid var(--fill-color);\n",
              "    border-color: transparent;\n",
              "    border-bottom-color: var(--fill-color);\n",
              "    animation:\n",
              "      spin 1s steps(1) infinite;\n",
              "  }\n",
              "\n",
              "  @keyframes spin {\n",
              "    0% {\n",
              "      border-color: transparent;\n",
              "      border-bottom-color: var(--fill-color);\n",
              "      border-left-color: var(--fill-color);\n",
              "    }\n",
              "    20% {\n",
              "      border-color: transparent;\n",
              "      border-left-color: var(--fill-color);\n",
              "      border-top-color: var(--fill-color);\n",
              "    }\n",
              "    30% {\n",
              "      border-color: transparent;\n",
              "      border-left-color: var(--fill-color);\n",
              "      border-top-color: var(--fill-color);\n",
              "      border-right-color: var(--fill-color);\n",
              "    }\n",
              "    40% {\n",
              "      border-color: transparent;\n",
              "      border-right-color: var(--fill-color);\n",
              "      border-top-color: var(--fill-color);\n",
              "    }\n",
              "    60% {\n",
              "      border-color: transparent;\n",
              "      border-right-color: var(--fill-color);\n",
              "    }\n",
              "    80% {\n",
              "      border-color: transparent;\n",
              "      border-right-color: var(--fill-color);\n",
              "      border-bottom-color: var(--fill-color);\n",
              "    }\n",
              "    90% {\n",
              "      border-color: transparent;\n",
              "      border-bottom-color: var(--fill-color);\n",
              "    }\n",
              "  }\n",
              "</style>\n",
              "\n",
              "  <script>\n",
              "    async function quickchart(key) {\n",
              "      const quickchartButtonEl =\n",
              "        document.querySelector('#' + key + ' button');\n",
              "      quickchartButtonEl.disabled = true;  // To prevent multiple clicks.\n",
              "      quickchartButtonEl.classList.add('colab-df-spinner');\n",
              "      try {\n",
              "        const charts = await google.colab.kernel.invokeFunction(\n",
              "            'suggestCharts', [key], {});\n",
              "      } catch (error) {\n",
              "        console.error('Error during call to suggestCharts:', error);\n",
              "      }\n",
              "      quickchartButtonEl.classList.remove('colab-df-spinner');\n",
              "      quickchartButtonEl.classList.add('colab-df-quickchart-complete');\n",
              "    }\n",
              "    (() => {\n",
              "      let quickchartButtonEl =\n",
              "        document.querySelector('#df-058a6e03-3eb1-4194-ae3e-cef7ff947165 button');\n",
              "      quickchartButtonEl.style.display =\n",
              "        google.colab.kernel.accessAllowed ? 'block' : 'none';\n",
              "    })();\n",
              "  </script>\n",
              "</div>\n",
              "\n",
              "    </div>\n",
              "  </div>\n"
            ],
            "application/vnd.google.colaboratory.intrinsic+json": {
              "type": "dataframe",
              "variable_name": "df"
            }
          },
          "metadata": {},
          "execution_count": 15
        }
      ]
    },
    {
      "metadata": {
        "ExecuteTime": {
          "end_time": "2020-09-27T15:37:53.023017Z",
          "start_time": "2020-09-27T15:37:53.019512Z"
        },
        "id": "wumTiOdgVIyC"
      },
      "cell_type": "markdown",
      "source": [
        "## 2. Are there any missing values in the dataset?"
      ]
    },
    {
      "metadata": {
        "trusted": false,
        "id": "wsc0UMdpVIyC"
      },
      "cell_type": "code",
      "source": [
        "# Your code goes here 💪"
      ],
      "execution_count": null,
      "outputs": []
    },
    {
      "metadata": {
        "ExecuteTime": {
          "end_time": "2020-09-27T15:38:37.540621Z",
          "start_time": "2020-09-27T15:38:37.536934Z"
        },
        "id": "XkxoAoLLVIyD"
      },
      "cell_type": "markdown",
      "source": [
        "## 3. How many songs are there in the dataset?"
      ]
    },
    {
      "metadata": {
        "trusted": false,
        "id": "jmzhHR1AVIyD"
      },
      "cell_type": "code",
      "source": [
        "# Your code goes here 💪"
      ],
      "execution_count": null,
      "outputs": []
    },
    {
      "metadata": {
        "id": "q1cL6b6xVIyD"
      },
      "cell_type": "markdown",
      "source": [
        "## 4. How many artists?"
      ]
    },
    {
      "metadata": {
        "trusted": false,
        "id": "QJZxTkTeVIyD"
      },
      "cell_type": "code",
      "source": [
        "# Your code goes here 💪"
      ],
      "execution_count": null,
      "outputs": []
    },
    {
      "metadata": {
        "id": "PLKeDY6bVIyD"
      },
      "cell_type": "markdown",
      "source": [
        "## 5. What's the average duration of a song, in minutes?"
      ]
    },
    {
      "metadata": {
        "trusted": false,
        "id": "Kf2cpnYCVIyD"
      },
      "cell_type": "code",
      "source": [
        "# Your code goes here 💪"
      ],
      "execution_count": null,
      "outputs": []
    },
    {
      "metadata": {
        "id": "SSsX3N0QVIyD"
      },
      "cell_type": "markdown",
      "source": [
        "## 6. Can you plot the distribution of the durations?"
      ]
    },
    {
      "metadata": {
        "trusted": false,
        "id": "ExhIhSoRVIyD"
      },
      "cell_type": "code",
      "source": [
        "# Your code goes here 💪"
      ],
      "execution_count": null,
      "outputs": []
    },
    {
      "metadata": {
        "id": "V_DqtunaVIyD"
      },
      "cell_type": "markdown",
      "source": [
        "## 7. [Follow-up] Can you make this plot more readable by removing outliers (extreme values)?"
      ]
    },
    {
      "metadata": {
        "trusted": false,
        "id": "5uMU4RrUVIyD"
      },
      "cell_type": "code",
      "source": [
        "# Your code goes here 💪"
      ],
      "execution_count": null,
      "outputs": []
    },
    {
      "metadata": {
        "id": "zzzoIkOWVIyD"
      },
      "cell_type": "markdown",
      "source": [
        "We only remove 470 songs (out of almost 170k) and get a way more interesting plot!"
      ]
    },
    {
      "metadata": {
        "id": "02ixCigEVIyD"
      },
      "cell_type": "markdown",
      "source": [
        "## 8. What are the top 10 longest songs (duration)?"
      ]
    },
    {
      "metadata": {
        "trusted": false,
        "id": "usxPg50tVIyD"
      },
      "cell_type": "code",
      "source": [
        "# Your code goes here 💪"
      ],
      "execution_count": null,
      "outputs": []
    },
    {
      "metadata": {
        "id": "PJhzeOynVIyD"
      },
      "cell_type": "markdown",
      "source": [
        "## 9. How long would it take to listen to all the songs?"
      ]
    },
    {
      "metadata": {
        "trusted": false,
        "id": "uN5refN-VIyE"
      },
      "cell_type": "code",
      "source": [
        "# Your code goes here 💪"
      ],
      "execution_count": null,
      "outputs": []
    },
    {
      "metadata": {
        "id": "t6Dc8v76VIyE"
      },
      "cell_type": "markdown",
      "source": [
        "This length is expressed in milliseconds, let's convert to days!"
      ]
    },
    {
      "metadata": {
        "id": "Zjlui_QAVIyE"
      },
      "cell_type": "markdown",
      "source": [
        "## 10. What are the top 10 most popular songs? We would like a DataFrame with only the columns `artists`, `name` and `popularity` as output!"
      ]
    },
    {
      "metadata": {
        "trusted": false,
        "id": "6cvjWwVDVIyE"
      },
      "cell_type": "code",
      "source": [
        "# Your code goes here 💪"
      ],
      "execution_count": null,
      "outputs": []
    },
    {
      "metadata": {
        "id": "Mkn-EZZWVIyE"
      },
      "cell_type": "markdown",
      "source": [
        "## 11. What is the most popular song before 2000?"
      ]
    },
    {
      "metadata": {
        "trusted": false,
        "id": "17Xae7kXVIyE"
      },
      "cell_type": "code",
      "source": [
        "# Your code goes here 💪"
      ],
      "execution_count": null,
      "outputs": []
    },
    {
      "metadata": {
        "id": "8Jc0NIzQVIyE"
      },
      "cell_type": "markdown",
      "source": [
        "## 12. Can you plot the distribution of `popularity`?"
      ]
    },
    {
      "metadata": {
        "trusted": false,
        "id": "MaounH5yVIyE"
      },
      "cell_type": "code",
      "source": [
        "# Your code goes here 💪"
      ],
      "execution_count": null,
      "outputs": []
    },
    {
      "metadata": {
        "id": "ik9VGTeEVIyE"
      },
      "cell_type": "markdown",
      "source": [
        "## 13. What are the top 10 artists in terms of number of songs?"
      ]
    },
    {
      "metadata": {
        "trusted": false,
        "id": "NvffmzZ0VIyE"
      },
      "cell_type": "code",
      "source": [
        "# Your code goes here 💪"
      ],
      "execution_count": null,
      "outputs": []
    },
    {
      "metadata": {
        "id": "StSPBNPRVIyE"
      },
      "cell_type": "markdown",
      "source": [
        "## 14. [Follow-up] can you make a bar chart out of this result?"
      ]
    },
    {
      "metadata": {
        "trusted": false,
        "id": "CIbyH12vVIyE"
      },
      "cell_type": "code",
      "source": [
        "# Your code goes here 💪"
      ],
      "execution_count": null,
      "outputs": []
    },
    {
      "metadata": {
        "id": "krqHjbcQVIyE"
      },
      "cell_type": "markdown",
      "source": [
        "## 15. How many songs by key?"
      ]
    },
    {
      "metadata": {
        "trusted": false,
        "id": "OM4L-KHMVIyE"
      },
      "cell_type": "code",
      "source": [
        "# Your code goes here 💪"
      ],
      "execution_count": null,
      "outputs": []
    },
    {
      "metadata": {
        "id": "mmrVPUP7VIyF"
      },
      "cell_type": "markdown",
      "source": [
        "## 16. [Follow-up] Can you plot a bar chart using Seaborn? Make sure the keys are sorted in a descending order."
      ]
    },
    {
      "metadata": {
        "trusted": false,
        "id": "g07tkVG7VIyF"
      },
      "cell_type": "code",
      "source": [
        "# Your code goes here 💪"
      ],
      "execution_count": null,
      "outputs": []
    },
    {
      "metadata": {
        "id": "cGCPjz-bVIyF"
      },
      "cell_type": "markdown",
      "source": [
        "## 17. Can you plot a line graph representing the annual number of songs since 1921?"
      ]
    },
    {
      "metadata": {
        "trusted": false,
        "id": "e7foPoiUVIyF"
      },
      "cell_type": "code",
      "source": [
        "# Your code goes here 💪"
      ],
      "execution_count": null,
      "outputs": []
    },
    {
      "metadata": {
        "id": "D652BZW_VIyF"
      },
      "cell_type": "markdown",
      "source": [
        "Last question! 👇"
      ]
    },
    {
      "metadata": {
        "id": "0wtuben1VIyG"
      },
      "cell_type": "markdown",
      "source": [
        "## 18. Can you visually check if there is relationship between `year` and `popularity`?"
      ]
    },
    {
      "metadata": {
        "trusted": false,
        "id": "eXCjc1BeVIyG"
      },
      "cell_type": "code",
      "source": [
        "# Your code goes here 💪"
      ],
      "execution_count": null,
      "outputs": []
    },
    {
      "metadata": {
        "id": "AzT0kGfAVIyG"
      },
      "cell_type": "markdown",
      "source": [
        "It seems that the popularity score has increased through time...."
      ]
    }
  ],
  "metadata": {
    "kernelspec": {
      "name": "python3",
      "display_name": "Python 3",
      "language": "python"
    },
    "language_info": {
      "name": "python",
      "version": "3.7.8",
      "mimetype": "text/x-python",
      "codemirror_mode": {
        "name": "ipython",
        "version": 3
      },
      "pygments_lexer": "ipython3",
      "nbconvert_exporter": "python",
      "file_extension": ".py"
    },
    "toc": {
      "base_numbering": 1,
      "nav_menu": {},
      "number_sections": true,
      "sideBar": true,
      "skip_h1_title": false,
      "title_cell": "Table of Contents",
      "title_sidebar": "Contents",
      "toc_cell": false,
      "toc_position": {},
      "toc_section_display": true,
      "toc_window_display": false
    },
    "varInspector": {
      "cols": {
        "lenName": 16,
        "lenType": 16,
        "lenVar": 40
      },
      "kernels_config": {
        "python": {
          "delete_cmd_postfix": "",
          "delete_cmd_prefix": "del ",
          "library": "var_list.py",
          "varRefreshCmd": "print(var_dic_list())"
        },
        "r": {
          "delete_cmd_postfix": ") ",
          "delete_cmd_prefix": "rm(",
          "library": "var_list.r",
          "varRefreshCmd": "cat(var_dic_list()) "
        }
      },
      "types_to_exclude": [
        "module",
        "function",
        "builtin_function_or_method",
        "instance",
        "_Feature"
      ],
      "window_display": false
    },
    "colab": {
      "provenance": []
    }
  },
  "nbformat": 4,
  "nbformat_minor": 0
}